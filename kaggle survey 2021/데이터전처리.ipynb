{
  "nbformat": 4,
  "nbformat_minor": 0,
  "metadata": {
    "colab": {
      "name": "데이터전처리 수정.ipynb",
      "provenance": [],
      "collapsed_sections": []
    },
    "kernelspec": {
      "name": "python3",
      "display_name": "Python 3"
    },
    "language_info": {
      "name": "python"
    }
  },
  "cells": [
    {
      "cell_type": "code",
      "metadata": {
        "id": "vO_m2-jdW7dM"
      },
      "source": [
        ""
      ],
      "execution_count": null,
      "outputs": []
    },
    {
      "cell_type": "code",
      "metadata": {
        "colab": {
          "base_uri": "https://localhost:8080/"
        },
        "id": "rxwk2l2GI19W",
        "outputId": "155aaa92-0a15-4ebc-f5dc-63eda8e4fb9b"
      },
      "source": [
        "import pandas as pd\n",
        "import numpy as np \n",
        "import plotly.graph_objects as go\n",
        "from plotly.subplots import make_subplots\n",
        "\n",
        "from google.colab import drive\n",
        "drive.mount('/content/drive')\n",
        "\n",
        "df = pd.read_csv('/content/drive/MyDrive/kaggle_survey_2021_responses.csv')\n"
      ],
      "execution_count": null,
      "outputs": [
        {
          "output_type": "stream",
          "name": "stdout",
          "text": [
            "Mounted at /content/drive\n"
          ]
        },
        {
          "output_type": "stream",
          "name": "stderr",
          "text": [
            "/usr/local/lib/python3.7/dist-packages/IPython/core/interactiveshell.py:2718: DtypeWarning:\n",
            "\n",
            "Columns (0,195,201,285,286,287,288,289,290,291,292) have mixed types.Specify dtype option on import or set low_memory=False.\n",
            "\n"
          ]
        }
      ]
    },
    {
      "cell_type": "code",
      "metadata": {
        "id": "eVBW8QP4I_0n"
      },
      "source": [
        "# temp_index =  df[df['Q5']=='Student'].index\n"
      ],
      "execution_count": null,
      "outputs": []
    },
    {
      "cell_type": "code",
      "metadata": {
        "id": "XT-Z3DpxSYN2"
      },
      "source": [
        "#df2 = df.drop(temp_index)\n"
      ],
      "execution_count": null,
      "outputs": []
    },
    {
      "cell_type": "code",
      "metadata": {
        "id": "Rqywrp5WU_mF"
      },
      "source": [
        "\"\"\"\n",
        "df2.loc[df2['Q25'] == '$0-999' , 'Q25'] = 'drop'\n",
        "df2.loc[df2['Q25'] == '1,000-1,999' , 'Q25'] = 'drop'\n",
        "df2.loc[df2['Q25'] == '2,000-2,999' , 'Q25'] = 'drop'\n",
        "df2.loc[df2['Q25'] == '3,000-3,999' , 'Q25'] = 'drop'\n",
        "df2.loc[df2['Q25'] == '4,000-4,999' , 'Q25'] = 'drop'\n",
        "df2.loc[df2['Q25'] == '5,000-7,499' , 'Q25'] = 'drop'\n",
        "df2.loc[df2['Q25'] == '7,500-9,999' , 'Q25'] = 'drop'\n",
        "df2.loc[df2['Q25'] == '10,000-14,999'  , 'Q25'] = 'drop'\n",
        "df2.loc[df2['Q25'] == '15,000-19,999' , 'Q25'] = 'drop'\n",
        "\n",
        "temp_index2 =  df2[df2['Q25']=='drop'].index\n",
        "\n",
        "\"\"\""
      ],
      "execution_count": null,
      "outputs": []
    },
    {
      "cell_type": "code",
      "metadata": {
        "id": "WDg5NOP6VkS2"
      },
      "source": [
        "#df2 = df2.drop(temp_index2)"
      ],
      "execution_count": null,
      "outputs": []
    },
    {
      "cell_type": "code",
      "metadata": {
        "id": "SXrm_wmYVpPt"
      },
      "source": [
        "df2 =df.dropna(subset=['Q25'])"
      ],
      "execution_count": null,
      "outputs": []
    },
    {
      "cell_type": "code",
      "metadata": {
        "id": "68PzrAvBcR91"
      },
      "source": [
        "country = ['South Korea','Japan','China','United States of America']\n",
        "\n",
        "df2 = df2[df2.Q3.isin(country)]"
      ],
      "execution_count": null,
      "outputs": []
    },
    {
      "cell_type": "code",
      "metadata": {
        "id": "mSa3n351dVuV"
      },
      "source": [
        "df2 = df2[['Q1','Q2','Q3','Q4','Q5','Q6','Q25']]"
      ],
      "execution_count": null,
      "outputs": []
    },
    {
      "cell_type": "code",
      "metadata": {
        "id": "Q_Jhu2bKjoZE"
      },
      "source": [
        "df2=df2.reset_index()"
      ],
      "execution_count": null,
      "outputs": []
    },
    {
      "cell_type": "code",
      "metadata": {
        "id": "oTQHqnf6jrQs"
      },
      "source": [
        "df2 = df2.drop(columns=['index'])"
      ],
      "execution_count": null,
      "outputs": []
    },
    {
      "cell_type": "code",
      "metadata": {
        "id": "7xc_GWNlYBhl"
      },
      "source": [
        "for i in df2.index :\n",
        "  if df2.iloc[i]['Q1']=='18-21':\n",
        "    df2.iloc[i]['Q1']= np.random.randint(18,22)\n",
        "  \n",
        "  elif df2.iloc[i]['Q1']=='22-24':\n",
        "    df2.iloc[i]['Q1']= np.random.randint(22,25)\n",
        "  \n",
        "  elif df2.iloc[i]['Q1']=='25-29':\n",
        "    df2.iloc[i]['Q1']= np.random.randint(25,30)\n",
        "\n",
        "  elif df2.iloc[i]['Q1']=='30-34':\n",
        "    df2.iloc[i]['Q1']= np.random.randint(30,35)\n",
        "\n",
        "  elif df2.iloc[i]['Q1']=='35-39':\n",
        "    df2.iloc[i]['Q1']= np.random.randint(35,40)\n",
        "\n",
        "  elif df2.iloc[i]['Q1']=='40-44':\n",
        "    df2.iloc[i]['Q1']= np.random.randint(40,45)\n",
        "\n",
        "  elif df2.iloc[i]['Q1']=='45-49':\n",
        "    df2.iloc[i]['Q1']= np.random.randint(45,50)\n",
        "\n",
        "  elif df2.iloc[i]['Q1']=='50-54':\n",
        "    df2.iloc[i]['Q1']= np.random.randint(50,55)\n",
        "\n",
        "  elif df2.iloc[i]['Q1']=='55-59':\n",
        "    df2.iloc[i]['Q1']= np.random.randint(55,60)\n",
        "\n",
        "  elif df2.iloc[i]['Q1']=='60-69':\n",
        "    df2.iloc[i]['Q1']= np.random.randint(60,70)\n",
        "\n",
        "  elif df2.iloc[i]['Q1']=='70+':\n",
        "    df2.iloc[i]['Q1']= 70\n",
        "  \n",
        "   \n",
        "\n",
        "  if df2.iloc[i]['Q6']=='< 1 years':\n",
        "    df2.iloc[i]['Q6']= 0.5  \n",
        "  elif df2.iloc[i]['Q6']=='1-3 years':\n",
        "    df2.iloc[i]['Q6']= np.random.randint(1,4)  \n",
        "  elif df2.iloc[i]['Q6']=='3-5 years':\n",
        "    df2.iloc[i]['Q6']= np.random.randint(3,6)  \n",
        "  elif df2.iloc[i]['Q6']=='5-10 years':\n",
        "    df2.iloc[i]['Q6']= np.random.randint(5,11)  \n",
        "  elif df2.iloc[i]['Q6']=='10-20 years':\n",
        "    df2.iloc[i]['Q6']= np.random.randint(10,21)  \n",
        "  elif df2.iloc[i]['Q6']=='20+ years':\n",
        "    df2.iloc[i]['Q6']= np.random.randint(20,30)  \n",
        "  elif df2.iloc[i]['Q6']=='I have never written code':\n",
        "    df2.iloc[i]['Q6']= 0 \n",
        "\n",
        "\n",
        "\n",
        "  if df2.iloc[i]['Q25']=='$0-999':\n",
        "    df2.iloc[i]['Q25']= np.random.randint(0,1000) \n",
        "  elif df2.iloc[i]['Q25']=='1,000-1,999':\n",
        "    df2.iloc[i]['Q25']= np.random.randint(1000,2000)   \n",
        "  elif df2.iloc[i]['Q25']=='2,000-2,999':\n",
        "    df2.iloc[i]['Q25']= np.random.randint(2000,3000)   \n",
        "  elif df2.iloc[i]['Q25']=='3,000-3,999':\n",
        "    df2.iloc[i]['Q25']= np.random.randint(3000,4000)   \n",
        "  elif df2.iloc[i]['Q25']=='4,000-4,999':\n",
        "    df2.iloc[i]['Q25']= np.random.randint(4000,5000)   \n",
        "  elif df2.iloc[i]['Q25']=='5,000-7,499':\n",
        "    df2.iloc[i]['Q25']= np.random.randint(5000,7500)   \n",
        "  elif df2.iloc[i]['Q25']=='7,500-9,999':\n",
        "    df2.iloc[i]['Q25']= np.random.randint(7500,10000)   \n",
        "  elif df2.iloc[i]['Q25']=='10,000-14,999':\n",
        "    df2.iloc[i]['Q25']= np.random.randint(10000,15000)   \n",
        "  elif df2.iloc[i]['Q25']=='15,000-19,999':\n",
        "    df2.iloc[i]['Q25']= np.random.randint(15000,20000)   \n",
        "\n",
        "  elif df2.iloc[i]['Q25']=='20,000-24,999':\n",
        "    df2.iloc[i]['Q25']= np.random.randint(20000,25000) \n",
        "  elif df2.iloc[i]['Q25']=='25,000-29,999':\n",
        "    df2.iloc[i]['Q25']= np.random.randint(25000,30000) \n",
        "  elif df2.iloc[i]['Q25']=='30,000-39,999':\n",
        "    df2.iloc[i]['Q25']= np.random.randint(30000,40000) \n",
        "  elif df2.iloc[i]['Q25']=='40,000-49,999':\n",
        "    df2.iloc[i]['Q25']= np.random.randint(40000,50000) \n",
        "  elif df2.iloc[i]['Q25']=='50,000-59,999':\n",
        "    df2.iloc[i]['Q25']= np.random.randint(50000,60000) \n",
        "  elif df2.iloc[i]['Q25']=='60,000-69,999':\n",
        "    df2.iloc[i]['Q25']= np.random.randint(60000,70000) \n",
        "  elif df2.iloc[i]['Q25']=='70,000-79,999':\n",
        "    df2.iloc[i]['Q25']= np.random.randint(70000,80000) \n",
        "  elif df2.iloc[i]['Q25']=='80,000-89,999':\n",
        "    df2.iloc[i]['Q25']= np.random.randint(80000,90000)\n",
        "  elif df2.iloc[i]['Q25']=='90,000-99,999':\n",
        "    df2.iloc[i]['Q25']= np.random.randint(90000,100000) \n",
        "  elif df2.iloc[i]['Q25']=='100,000-124,999':\n",
        "    df2.iloc[i]['Q25']= np.random.randint(100000,125000) \n",
        "  elif df2.iloc[i]['Q25']=='125,000-149,999':\n",
        "    df2.iloc[i]['Q25']= np.random.randint(125000,150000) \n",
        "  elif df2.iloc[i]['Q25']=='150,000-199,999':\n",
        "    df2.iloc[i]['Q25']= np.random.randint(150000,200000) \n",
        "  elif df2.iloc[i]['Q25']=='200,000-249,999':\n",
        "    df2.iloc[i]['Q25']= np.random.randint(200000,250000) \n",
        "  elif df2.iloc[i]['Q25']=='250,000-299,999':\n",
        "    df2.iloc[i]['Q25']= np.random.randint(250000,300000)  \n",
        "  elif df2.iloc[i]['Q25']=='300,000-499,999':\n",
        "    df2.iloc[i]['Q25']= np.random.randint(300000,500000)  \n",
        "  elif df2.iloc[i]['Q25']=='$500,000-999,999':\n",
        "    df2.iloc[i]['Q25']= np.random.randint(500000,1000000)  \n",
        "  elif df2.iloc[i]['Q25']=='>$1,000,000':\n",
        "    df2.iloc[i]['Q25']= np.random.randint(1000000,1100000) "
      ],
      "execution_count": null,
      "outputs": []
    },
    {
      "cell_type": "code",
      "metadata": {
        "id": "dqbCNUqfjDVM"
      },
      "source": [
        "df2.loc[df2['Q4']=='Doctoral degree','Q4'] = 5\n",
        "df2.loc[df2['Q4']=='Professional doctorate','Q4'] = 5\n",
        "df2.loc[df2['Q4']=='Master’s degree','Q4'] = 4\n",
        "df2.loc[df2['Q4']=='Bachelor’s degree','Q4'] = 3\n",
        "df2.loc[df2['Q4']=='Some college/university study without earning a bachelor’s degree','Q4'] = 2\n",
        "df2.loc[df2['Q4']=='No formal education past high school','Q4'] = 1\n",
        "df2.loc[df2['Q4']=='I prefer not to answer','Q4'] = 0\n"
      ],
      "execution_count": null,
      "outputs": []
    },
    {
      "cell_type": "code",
      "metadata": {
        "id": "zBdHp3chlzr8"
      },
      "source": [
        "df2.loc[df2['Q3']=='United States of America','Q3'] = 'USA'"
      ],
      "execution_count": null,
      "outputs": []
    },
    {
      "cell_type": "code",
      "metadata": {
        "id": "YaEG8YRIovw8"
      },
      "source": [
        ""
      ],
      "execution_count": null,
      "outputs": []
    },
    {
      "cell_type": "code",
      "metadata": {
        "id": "Km-9qVExoLBj"
      },
      "source": [
        "df2.to_csv('ppt_df_5.csv')"
      ],
      "execution_count": null,
      "outputs": []
    }
  ]
}